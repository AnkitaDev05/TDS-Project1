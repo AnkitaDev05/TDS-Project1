{
  "nbformat": 4,
  "nbformat_minor": 0,
  "metadata": {
    "colab": {
      "provenance": []
    },
    "kernelspec": {
      "name": "python3",
      "display_name": "Python 3"
    },
    "language_info": {
      "name": "python"
    }
  },
  "cells": [
    {
      "cell_type": "code",
      "source": [
        "import pandas as pd\n",
        "from sklearn.linear_model import LinearRegression\n",
        "import statsmodels.api as sm\n",
        "from collections import Counter"
      ],
      "metadata": {
        "id": "B83clsbE_5vG"
      },
      "execution_count": 34,
      "outputs": []
    },
    {
      "cell_type": "code",
      "source": [
        "users_df = pd.read_csv('users.csv')\n",
        "repo_df = pd.read_csv('repositories.csv')"
      ],
      "metadata": {
        "id": "hRbIKw0q3i3-"
      },
      "execution_count": 2,
      "outputs": []
    },
    {
      "cell_type": "code",
      "source": [
        "#1\n",
        "\n",
        "top_users = users_df.sort_values(by='followers', ascending=False).head(5)\n",
        "top_user_logins = ','.join(top_users['login'].tolist())\n",
        "top_user_logins"
      ],
      "metadata": {
        "colab": {
          "base_uri": "https://localhost:8080/",
          "height": 36
        },
        "id": "h2ZYdYcP5DqW",
        "outputId": "0060b20a-4ac5-4c5a-fc85-8ddc67fef168"
      },
      "execution_count": 42,
      "outputs": [
        {
          "output_type": "execute_result",
          "data": {
            "text/plain": [
              "'tarsius,aalmiray,marcoroth,klmr,MrNeRF'"
            ],
            "application/vnd.google.colaboratory.intrinsic+json": {
              "type": "string"
            }
          },
          "metadata": {},
          "execution_count": 42
        }
      ]
    },
    {
      "cell_type": "code",
      "source": [
        "#2\n",
        "\n",
        "earliest_users = users_df.sort_values('created_at', ascending=True).head(5)\n",
        "earliest_user_logins = ','.join(earliest_users['login'].tolist())\n",
        "earliest_user_logins"
      ],
      "metadata": {
        "colab": {
          "base_uri": "https://localhost:8080/",
          "height": 36
        },
        "id": "9bY2yC8c6uuF",
        "outputId": "275c48bb-ea7c-469c-b32a-07d3dcc270df"
      },
      "execution_count": 43,
      "outputs": [
        {
          "output_type": "execute_result",
          "data": {
            "text/plain": [
              "'bennyzen,aalmiray,pvillega,tarsius,amaunz'"
            ],
            "application/vnd.google.colaboratory.intrinsic+json": {
              "type": "string"
            }
          },
          "metadata": {},
          "execution_count": 43
        }
      ]
    },
    {
      "cell_type": "code",
      "source": [
        "#3\n",
        "\n",
        "top_lic = repo_df['license_name'].dropna().value_counts().head(3).index.tolist()\n",
        "top_lic=','.join(top_lic)\n",
        "top_lic"
      ],
      "metadata": {
        "colab": {
          "base_uri": "https://localhost:8080/",
          "height": 36
        },
        "id": "034EEBj47by3",
        "outputId": "e3e44a5e-517d-4d6f-ed97-2daf0ed554d5"
      },
      "execution_count": 44,
      "outputs": [
        {
          "output_type": "execute_result",
          "data": {
            "text/plain": [
              "'MIT License,Apache License 2.0,Other'"
            ],
            "application/vnd.google.colaboratory.intrinsic+json": {
              "type": "string"
            }
          },
          "metadata": {},
          "execution_count": 44
        }
      ]
    },
    {
      "cell_type": "code",
      "source": [
        "#4\n",
        "\n",
        "most_common_company = users_df['company'].value_counts().idxmax()\n",
        "most_common_company"
      ],
      "metadata": {
        "colab": {
          "base_uri": "https://localhost:8080/",
          "height": 36
        },
        "id": "ySYBFcf67qzN",
        "outputId": "7e687b59-fd90-4f3d-aeee-b71f2ac65cfc"
      },
      "execution_count": 45,
      "outputs": [
        {
          "output_type": "execute_result",
          "data": {
            "text/plain": [
              "'UNIVERSITY OF BASEL'"
            ],
            "application/vnd.google.colaboratory.intrinsic+json": {
              "type": "string"
            }
          },
          "metadata": {},
          "execution_count": 45
        }
      ]
    },
    {
      "cell_type": "code",
      "source": [
        "#5\n",
        "\n",
        "most_popular_lang = repo_df['language'].value_counts().idxmax()\n",
        "most_popular_lang"
      ],
      "metadata": {
        "colab": {
          "base_uri": "https://localhost:8080/",
          "height": 36
        },
        "id": "7csf52gk776V",
        "outputId": "9dd98b01-bb79-4e36-84fc-e127623e2f90"
      },
      "execution_count": 46,
      "outputs": [
        {
          "output_type": "execute_result",
          "data": {
            "text/plain": [
              "'JavaScript'"
            ],
            "application/vnd.google.colaboratory.intrinsic+json": {
              "type": "string"
            }
          },
          "metadata": {},
          "execution_count": 46
        }
      ]
    },
    {
      "cell_type": "code",
      "source": [
        "#6\n",
        "\n",
        "users_df['created_at'] = pd.to_datetime(users_df['created_at'])\n",
        "\n",
        "recent_users = users_df[users_df['created_at'] > '2020-01-01']\n",
        "recent_repos = repo_df[repo_df['login'].isin(recent_users['login'])]\n",
        "language_counts = recent_repos['language'].value_counts()\n",
        "second_most_popular = language_counts.nlargest(2).index[1]\n",
        "second_most_popular"
      ],
      "metadata": {
        "colab": {
          "base_uri": "https://localhost:8080/",
          "height": 36
        },
        "id": "Cxk_gw0Y8Abm",
        "outputId": "2da787cd-2c8c-4559-923d-3c3063a58503"
      },
      "execution_count": 47,
      "outputs": [
        {
          "output_type": "execute_result",
          "data": {
            "text/plain": [
              "'PHP'"
            ],
            "application/vnd.google.colaboratory.intrinsic+json": {
              "type": "string"
            }
          },
          "metadata": {},
          "execution_count": 47
        }
      ]
    },
    {
      "cell_type": "code",
      "source": [
        "#7\n",
        "\n",
        "language_avg_stars = repo_df.groupby('language')['stargazers_count'].mean().idxmax()\n",
        "language_avg_stars"
      ],
      "metadata": {
        "colab": {
          "base_uri": "https://localhost:8080/",
          "height": 36
        },
        "id": "NI7naBiM8BL2",
        "outputId": "ca858893-2429-495d-eb1f-facd69122463"
      },
      "execution_count": 48,
      "outputs": [
        {
          "output_type": "execute_result",
          "data": {
            "text/plain": [
              "'PureScript'"
            ],
            "application/vnd.google.colaboratory.intrinsic+json": {
              "type": "string"
            }
          },
          "metadata": {},
          "execution_count": 48
        }
      ]
    },
    {
      "cell_type": "code",
      "source": [
        "#8\n",
        "\n",
        "users_df['leader_strength'] = users_df['followers'] / (1 + users_df['following'])\n",
        "top_5_leaders = users_df.sort_values('leader_strength', ascending=False).head(5)['login'].tolist()\n",
        "top_5_leaders = ','.join(top_5_leaders)\n",
        "top_5_leaders"
      ],
      "metadata": {
        "colab": {
          "base_uri": "https://localhost:8080/",
          "height": 36
        },
        "id": "eJYKS3Q48Ch8",
        "outputId": "1cc4a4fb-a72d-4481-950e-b4ce8f156277"
      },
      "execution_count": 49,
      "outputs": [
        {
          "output_type": "execute_result",
          "data": {
            "text/plain": [
              "'dpryan79,wasserth,ravage84,elanmart,quadbiolab'"
            ],
            "application/vnd.google.colaboratory.intrinsic+json": {
              "type": "string"
            }
          },
          "metadata": {},
          "execution_count": 49
        }
      ]
    },
    {
      "cell_type": "code",
      "source": [
        "#9\n",
        "\n",
        "followers_repos_corr = users_df['followers'].corr(users_df['public_repos'])\n",
        "print(f\"Correlation between followers and repos: {followers_repos_corr:.3f}\")"
      ],
      "metadata": {
        "colab": {
          "base_uri": "https://localhost:8080/"
        },
        "id": "to1bEzHF8EcE",
        "outputId": "5af14159-2911-4bf8-f925-1820e2004d1a"
      },
      "execution_count": 53,
      "outputs": [
        {
          "output_type": "stream",
          "name": "stdout",
          "text": [
            "Correlation between followers and repos: 0.345\n"
          ]
        }
      ]
    },
    {
      "cell_type": "code",
      "source": [
        "#10\n",
        "\n",
        "model = LinearRegression()\n",
        "model.fit(users_df[['public_repos']], users_df['followers'])\n",
        "f_per_repo = model.coef_[0]\n",
        "print(f\"Regression slope of followers on repos: {f_per_repo:.3f}\")"
      ],
      "metadata": {
        "colab": {
          "base_uri": "https://localhost:8080/"
        },
        "id": "1RTkfkc08EWU",
        "outputId": "bd51640b-4b67-4bf8-c82d-8f5f57db6501"
      },
      "execution_count": 54,
      "outputs": [
        {
          "output_type": "stream",
          "name": "stdout",
          "text": [
            "Regression slope of followers on repos: 0.674\n"
          ]
        }
      ]
    },
    {
      "cell_type": "code",
      "source": [
        "#11\n",
        "\n",
        "repo_df['has_projects'] = repo_df['has_projects'].astype(str).str.lower() == 'true'\n",
        "repo_df['has_wiki'] = repo_df['has_wiki'].astype(str).str.lower() == 'true'\n",
        "\n",
        "correlation = repo_df['has_projects'].astype(int).corr(repo_df['has_wiki'].astype(int))\n",
        "\n",
        "print(f\"Correlation between projects enabled and wiki enabled: {correlation:.3f}\")"
      ],
      "metadata": {
        "colab": {
          "base_uri": "https://localhost:8080/"
        },
        "id": "YNygcbsb8I9e",
        "outputId": "8e9d86d3-b8ad-4d29-b360-10454290a58a"
      },
      "execution_count": 22,
      "outputs": [
        {
          "output_type": "stream",
          "name": "stdout",
          "text": [
            "Correlation between projects enabled and wiki enabled: 0.262\n"
          ]
        }
      ]
    },
    {
      "cell_type": "code",
      "source": [
        "#12\n",
        "\n",
        "users_df['hireable'] = users_df['hireable'].replace({'true': True}).fillna(False).astype(bool)\n",
        "mean_following = users_df.groupby('hireable')['following'].mean()\n",
        "difference = mean_following[True] - mean_following[False]\n",
        "\n",
        "print(mean_following)\n",
        "print(f\"The difference in mean following between hireable True and False is: {difference}\")"
      ],
      "metadata": {
        "colab": {
          "base_uri": "https://localhost:8080/"
        },
        "id": "xb8Oeqj-8I5t",
        "outputId": "ff4ea2d7-0eff-48fe-de2d-af8837d092c0"
      },
      "execution_count": 41,
      "outputs": [
        {
          "output_type": "stream",
          "name": "stdout",
          "text": [
            "hireable\n",
            "False    30.056537\n",
            "True     75.985075\n",
            "Name: following, dtype: float64\n",
            "The difference in mean following between hireable True and False is: 45.92853752439217\n"
          ]
        }
      ]
    },
    {
      "cell_type": "code",
      "source": [
        "#13\n",
        "\n",
        "users_with_bios = users_df[users_df['bio'].notna()].copy()\n",
        "users_with_bios['bio_length'] = users_with_bios['bio'].str.split().str.len()\n",
        "\n",
        "X = users_with_bios['bio_length']\n",
        "y = users_with_bios['followers']\n",
        "\n",
        "X = sm.add_constant(X)\n",
        "model = sm.OLS(y, X).fit()\n",
        "slope = model.params['bio_length']\n",
        "\n",
        "print(f\"Regression slope of followers on bio word count: {slope:.3f}\")\n"
      ],
      "metadata": {
        "colab": {
          "base_uri": "https://localhost:8080/"
        },
        "id": "AEnsVnFB8I0k",
        "outputId": "0068ad1a-8d55-4de7-ed08-7cbaa47f0089"
      },
      "execution_count": 39,
      "outputs": [
        {
          "output_type": "stream",
          "name": "stdout",
          "text": [
            "Regression slope of followers on bio word count: 2.342\n"
          ]
        }
      ]
    },
    {
      "cell_type": "code",
      "source": [
        "#14\n",
        "\n",
        "def is_weekend(date_str):\n",
        "    date = pd.to_datetime(date_str)\n",
        "    return date.weekday() >= 5  # Saturday (5) or Sunday (6)\n",
        "\n",
        "repo_df['weekend'] = repo_df['created_at'].apply(is_weekend)\n",
        "weekend_logins = repo_df[repo_df['weekend']]['login'].value_counts().head(5).index\n",
        "\n",
        "print(','.join(weekend_logins))"
      ],
      "metadata": {
        "colab": {
          "base_uri": "https://localhost:8080/"
        },
        "id": "GbFz5B0b8EPs",
        "outputId": "a7f39606-9433-4a40-bd0c-e8b5de776ae0"
      },
      "execution_count": 38,
      "outputs": [
        {
          "output_type": "stream",
          "name": "stdout",
          "text": [
            "dpryan79,ioolkos,syzer,maysam,pvillega\n"
          ]
        }
      ]
    },
    {
      "cell_type": "code",
      "source": [
        "#15\n",
        "users = users_df.copy()\n",
        "users['hireable'] = users['hireable'].fillna(False).astype(bool)\n",
        "\n",
        "non_hireable_users  = users[users['hireable'] == False]\n",
        "hireable_users = users[users['hireable'] == True]\n",
        "\n",
        "fraction_hireable_with_email = hireable_users['email'].notna().sum() / hireable_users.shape[0] if hireable_users.shape[0] > 0 else 0\n",
        "fraction_non_hireable_with_email = non_hireable_users['email'].notna().sum() / non_hireable_users.shape[0] if non_hireable_users.shape[0] > 0 else 0\n",
        "difference = fraction_hireable_with_email - fraction_non_hireable_with_email\n",
        "\n",
        "print(f\"Difference between fraction of users with email when hireable=true and for the rest: {difference}\")"
      ],
      "metadata": {
        "colab": {
          "base_uri": "https://localhost:8080/"
        },
        "id": "SBVHFoQe8OGd",
        "outputId": "07338bcd-e6d4-4942-e268-59fce9b57d10"
      },
      "execution_count": 55,
      "outputs": [
        {
          "output_type": "stream",
          "name": "stdout",
          "text": [
            "Difference between fraction of users with email when hireable=true and for the rest: 0.06729602869046991\n"
          ]
        }
      ]
    },
    {
      "cell_type": "code",
      "source": [
        "#16\n",
        "\n",
        "surnames = users_df['name'].dropna().str.strip().str.split().str[-1]\n",
        "surname_counts = Counter(surnames)\n",
        "max_count = max(surname_counts.values())\n",
        "most_common_surnames = sorted([surname for surname, count in surname_counts.items() if count == max_count])\n",
        "\n",
        "print(\"Most common surname(s):\", ','.join(most_common_surnames))"
      ],
      "metadata": {
        "colab": {
          "base_uri": "https://localhost:8080/"
        },
        "id": "WptvUrcY8N88",
        "outputId": "9a8eb84f-246d-44ab-983e-d685e65065f3"
      },
      "execution_count": 36,
      "outputs": [
        {
          "output_type": "stream",
          "name": "stdout",
          "text": [
            "Most common surname(s): Arnold,Brand,Christensen,Fink,GmbH,Group,Guggisberg,Landolt,Roth,Tan\n"
          ]
        }
      ]
    }
  ]
}